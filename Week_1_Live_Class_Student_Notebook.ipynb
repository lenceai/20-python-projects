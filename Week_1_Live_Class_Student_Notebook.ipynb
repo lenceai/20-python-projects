{
  "cells": [
    {
      "cell_type": "markdown",
      "metadata": {
        "id": "view-in-github",
        "colab_type": "text"
      },
      "source": [
        "<a href=\"https://colab.research.google.com/github/lenceai/20-python-projects/blob/main/Week_1_Live_Class_Student_Notebook.ipynb\" target=\"_parent\"><img src=\"https://colab.research.google.com/assets/colab-badge.svg\" alt=\"Open In Colab\"/></a>"
      ]
    },
    {
      "cell_type": "markdown",
      "id": "4cd8b461",
      "metadata": {
        "id": "4cd8b461"
      },
      "source": [
        "# Weekly Automated Report"
      ]
    },
    {
      "cell_type": "markdown",
      "id": "42955b7d",
      "metadata": {
        "id": "42955b7d"
      },
      "source": [
        "Our business problem for today will be automating a weekly revenue report\n",
        "\n",
        "You can download the datasets for this session from the following site:\n",
        "https://www.kaggle.com/datasets/olistbr/brazilian-ecommerce?select=olist_sellers_dataset.csv\n",
        "\n",
        "\n",
        "**Very important**- Move the downloaded csv files to the same folder as your Python notebook in order to upload the data."
      ]
    },
    {
      "cell_type": "markdown",
      "id": "f8436235",
      "metadata": {
        "id": "f8436235"
      },
      "source": [
        "The questions we will want to answer in our weekly report are:\n",
        "\n",
        "* How much revenue did we make this week? By region?\n",
        "* What was the w/w change in revenue?\n",
        "* What was the y/y growth in revenue?\n",
        "* What percentage of our sales target have we reached (QTD, and EoQ)?\n",
        "* What are our average ratings for the week?\n",
        "* What was the average time it took for an order to be fullfilled and delivered?\n",
        "\n",
        "For each of these questions, we will want to keep in the back of our mind, not just how to answer these questions, but how to provide insights?\n",
        "\n",
        "*** For example, within ratings, we want to think about how ratings might vary by region, or are being driven by a particular seller, if they have changed over time***\n"
      ]
    },
    {
      "cell_type": "markdown",
      "id": "cb59deaa",
      "metadata": {
        "id": "cb59deaa"
      },
      "source": [
        "We will begin by taking a look at our schema and to understand how the various datasets are connected to one another:"
      ]
    },
    {
      "cell_type": "code",
      "execution_count": null,
      "id": "2b3f732f",
      "metadata": {
        "id": "2b3f732f"
      },
      "outputs": [],
      "source": [
        "#Questions to ask: What is our most granular level of data?\n",
        "#Are there any datasets that we do not need to use?\n",
        "#where is your mind going with the data?"
      ]
    },
    {
      "cell_type": "code",
      "execution_count": null,
      "id": "8ca134ae",
      "metadata": {
        "id": "8ca134ae"
      },
      "outputs": [],
      "source": [
        "#The following code imports the pandas dataframe\n",
        "import pandas as pd\n",
        "import numpy as np\n",
        "\n",
        "#import remaining datasets\n",
        "customers_df = pd.read_csv('olist_customers_dataset.csv')\n",
        "order_items_df = pd.read_csv('olist_order_items_dataset.csv')\n"
      ]
    },
    {
      "cell_type": "code",
      "execution_count": null,
      "id": "d9d7a4f4",
      "metadata": {
        "id": "d9d7a4f4"
      },
      "outputs": [],
      "source": [
        "#This will change the settings to allow us to see all of our columns\n",
        "pd.set_option('display.max_columns', None)"
      ]
    },
    {
      "cell_type": "markdown",
      "id": "b2a65ce0",
      "metadata": {
        "id": "b2a65ce0"
      },
      "source": [
        "### Integrating SQL with Python"
      ]
    },
    {
      "cell_type": "code",
      "execution_count": null,
      "id": "c46d0205",
      "metadata": {
        "id": "c46d0205"
      },
      "outputs": [],
      "source": [
        "#open terminal and run: pip install pandasql\n",
        "\n",
        "import pandasql as ps\n",
        "\n",
        "#Documentation: https://pypi.org/project/pandasql/"
      ]
    },
    {
      "cell_type": "code",
      "execution_count": null,
      "id": "b58c193b",
      "metadata": {
        "id": "b58c193b"
      },
      "outputs": [],
      "source": [
        "#short example query- select the first 5 rows from customers_df\n"
      ]
    },
    {
      "cell_type": "markdown",
      "id": "ed91ddca",
      "metadata": {
        "id": "ed91ddca"
      },
      "source": [
        "What do we want in our dataset?\n",
        "\n",
        "Customers\n",
        "* customer_id\n",
        "* customer_unqiue_id\n",
        "* customer_zip_code\n",
        "* customer_city\n",
        "* customer_state\n",
        "\n",
        "Order Item\n",
        "* order_id\n",
        "* order_item_id\n",
        "* product_id\n",
        "* seller_id\n",
        "* shipping_limit_date\n",
        "* price\n",
        "\n",
        "\n",
        "Reviews\n",
        "* review_id\n",
        "* order_id\n",
        "* review_score\n",
        "\n",
        "Orders\n",
        "* order_id\n",
        "* customer_id\n",
        "* order_status\n",
        "* order_purchase_time\n",
        "* order_approved_at\n",
        "* order_delivered_carrier_date\n",
        "* order_delivered_customer_date\n",
        "\n",
        "Products\n",
        "* product_id\n",
        "* product_category\n",
        "\n",
        "\n",
        "Sellers\n",
        "* seller_id\n",
        "* seller_zip_code_prefix\n",
        "* seller_city\n",
        "* seller_state\n",
        "\n",
        "Product Category\n",
        "* product_category\n",
        "* product_category_name_english"
      ]
    },
    {
      "cell_type": "code",
      "execution_count": null,
      "id": "554a40cf",
      "metadata": {
        "id": "554a40cf"
      },
      "outputs": [],
      "source": [
        "#create query to put together our dataset\n"
      ]
    },
    {
      "cell_type": "markdown",
      "id": "0241704e",
      "metadata": {
        "id": "0241704e"
      },
      "source": [
        "### High level overview of our data"
      ]
    },
    {
      "cell_type": "code",
      "execution_count": null,
      "id": "f30b6029",
      "metadata": {
        "id": "f30b6029"
      },
      "outputs": [],
      "source": [
        "#command for viewing data\n"
      ]
    },
    {
      "cell_type": "code",
      "execution_count": null,
      "id": "d65f72f2",
      "metadata": {
        "id": "d65f72f2"
      },
      "outputs": [],
      "source": [
        "#information about our data\n"
      ]
    },
    {
      "cell_type": "code",
      "execution_count": null,
      "id": "b7020179",
      "metadata": {
        "id": "b7020179"
      },
      "outputs": [],
      "source": [
        "#shape of our dataframe\n",
        "\n"
      ]
    },
    {
      "cell_type": "code",
      "execution_count": null,
      "id": "2fbb1b64",
      "metadata": {
        "id": "2fbb1b64"
      },
      "outputs": [],
      "source": [
        "#columns in our dataframe\n",
        "\n"
      ]
    },
    {
      "cell_type": "code",
      "execution_count": null,
      "id": "ad510993",
      "metadata": {
        "id": "ad510993"
      },
      "outputs": [],
      "source": [
        "#describe dataset\n",
        "\n"
      ]
    },
    {
      "cell_type": "code",
      "execution_count": null,
      "id": "18cf4b5a",
      "metadata": {
        "id": "18cf4b5a"
      },
      "outputs": [],
      "source": [
        "#Change the type of zip code, order id, and seller zip code, as well as\n",
        "\n"
      ]
    },
    {
      "cell_type": "markdown",
      "id": "801beb20",
      "metadata": {
        "id": "801beb20"
      },
      "source": [
        "### Missing Data"
      ]
    },
    {
      "cell_type": "code",
      "execution_count": null,
      "id": "ddfb6568",
      "metadata": {
        "id": "ddfb6568"
      },
      "outputs": [],
      "source": [
        "#Check if there are null values in our data\n",
        "\n"
      ]
    },
    {
      "cell_type": "markdown",
      "id": "1184afe7",
      "metadata": {
        "id": "1184afe7"
      },
      "source": [
        "When we find null values, we can either:\n",
        "1. Remove the null values\n",
        "2. Keep the null values or\n",
        "3. Impute the data"
      ]
    },
    {
      "cell_type": "code",
      "execution_count": null,
      "id": "028f3b64",
      "metadata": {
        "id": "028f3b64"
      },
      "outputs": [],
      "source": [
        "#Assess the null values- order approved\n",
        "\n"
      ]
    },
    {
      "cell_type": "code",
      "execution_count": null,
      "id": "d8a5248d",
      "metadata": {
        "id": "d8a5248d"
      },
      "outputs": [],
      "source": [
        "#Use regex in order to see if this is a consistent trend for other dates\n",
        "\n"
      ]
    },
    {
      "cell_type": "code",
      "execution_count": null,
      "id": "a6cd4547",
      "metadata": {
        "id": "a6cd4547"
      },
      "outputs": [],
      "source": [
        "#Check if order status affects delivery date\n",
        "\n"
      ]
    },
    {
      "cell_type": "code",
      "execution_count": null,
      "id": "56b38fae",
      "metadata": {
        "id": "56b38fae"
      },
      "outputs": [],
      "source": [
        "#Check if order status affects delivery date\n",
        "\n"
      ]
    },
    {
      "cell_type": "code",
      "execution_count": null,
      "id": "7cb9b2a6",
      "metadata": {
        "id": "7cb9b2a6"
      },
      "outputs": [],
      "source": [
        "#Check if order status affects delivery date\n",
        "\n"
      ]
    },
    {
      "cell_type": "markdown",
      "id": "1c03dfe0",
      "metadata": {
        "id": "1c03dfe0"
      },
      "source": [
        "###### Imputing Data"
      ]
    },
    {
      "cell_type": "code",
      "execution_count": null,
      "id": "96ebbc62",
      "metadata": {
        "id": "96ebbc62"
      },
      "outputs": [],
      "source": [
        "#create dataframe\n",
        "imp_df = pd.DataFrame()\n",
        "\n",
        "imp_df['col1'] = [0.2601,0.2358,0.1429,0.1259,0.7526,\n",
        "                0.7341,0.4546,0.1426,0.1490,0.2500]\n",
        "imp_df['col2'] = [0.7154,np.nan,0.2615,0.5846,np.nan,\n",
        "                0.8308,0.4962,np.nan,0.5340,0.6731]\n",
        "\n"
      ]
    },
    {
      "cell_type": "code",
      "execution_count": null,
      "id": "0fd2a3ce",
      "metadata": {
        "id": "0fd2a3ce"
      },
      "outputs": [],
      "source": [
        "#Impute using a for loop\n",
        "\n"
      ]
    },
    {
      "cell_type": "code",
      "execution_count": null,
      "id": "42cc9803",
      "metadata": {
        "id": "42cc9803"
      },
      "outputs": [],
      "source": [
        "#Impute using Python Library\n",
        "\n",
        "from sklearn.impute import SimpleImputer\n",
        "\n",
        "#missing_values : In this we have to place the missing values and in pandas it is 'NaN'.\n",
        "#strategy : In this we have to pass the strategy that we need to follow to impute in missing value it can be mean, median, most_frequent or constant. By default it is mean.\n",
        "#fill_value : By default it is set as none. It is used when the strategy is set to constant then we have to pass the value that we want to fill as a constant in all the nun places.\n",
        "#axis : In this we have to pass 0 for columns and 1 for rows.\n",
        "\n",
        "\n"
      ]
    },
    {
      "cell_type": "markdown",
      "id": "1863a724",
      "metadata": {
        "id": "1863a724"
      },
      "source": [
        "### Regex"
      ]
    },
    {
      "cell_type": "code",
      "execution_count": null,
      "id": "e757c908",
      "metadata": {
        "id": "e757c908"
      },
      "outputs": [],
      "source": [
        "#Use regex to extract timestamp\n",
        "\n"
      ]
    },
    {
      "cell_type": "code",
      "execution_count": null,
      "id": "4276d346",
      "metadata": {
        "id": "4276d346"
      },
      "outputs": [],
      "source": [
        "#split()"
      ]
    },
    {
      "cell_type": "code",
      "execution_count": null,
      "id": "1aac1f83",
      "metadata": {
        "id": "1aac1f83"
      },
      "outputs": [],
      "source": [
        "#sub()\n",
        "\n"
      ]
    },
    {
      "cell_type": "code",
      "execution_count": null,
      "id": "75ee8254",
      "metadata": {
        "id": "75ee8254"
      },
      "outputs": [],
      "source": [
        "#Simpler solution: Use split string function\n",
        "\n",
        "\n",
        "#create new columns\n"
      ]
    },
    {
      "cell_type": "code",
      "execution_count": null,
      "id": "13bf9bce",
      "metadata": {
        "id": "13bf9bce"
      },
      "outputs": [],
      "source": [
        "#Repeat the same for remaining date columns: order_approved_at, order_delivered_carrier_date, order_delivered_customer_date\n",
        "\n"
      ]
    },
    {
      "cell_type": "markdown",
      "id": "25039b24",
      "metadata": {
        "id": "25039b24"
      },
      "source": [
        "### Working with Dates"
      ]
    },
    {
      "cell_type": "code",
      "execution_count": null,
      "id": "6fd6056e",
      "metadata": {
        "id": "6fd6056e"
      },
      "outputs": [],
      "source": [
        "from datetime import datetime, timedelta\n",
        "\n",
        "\n",
        "#change the type of the column to date\n"
      ]
    },
    {
      "cell_type": "markdown",
      "id": "1633923b",
      "metadata": {
        "id": "1633923b"
      },
      "source": [
        "### Beginning our Analysis"
      ]
    },
    {
      "cell_type": "markdown",
      "id": "14a95996",
      "metadata": {
        "id": "14a95996"
      },
      "source": [
        "* How much revenue did we make this week?\n",
        "* What was the w/w change in revenue?\n",
        "* What was the y/y growth in revenue?"
      ]
    },
    {
      "cell_type": "code",
      "execution_count": null,
      "id": "a474689f",
      "metadata": {
        "id": "a474689f"
      },
      "outputs": [],
      "source": [
        "#Set dates\n",
        "\n",
        "\n",
        "\n",
        "#can implement a check to see if the max report date is what you would expect it to be (i.e. no missing data)\n",
        "\n"
      ]
    },
    {
      "cell_type": "code",
      "execution_count": null,
      "id": "a28620ea",
      "metadata": {
        "id": "a28620ea"
      },
      "outputs": [],
      "source": []
    },
    {
      "cell_type": "code",
      "execution_count": null,
      "id": "2863c028",
      "metadata": {
        "id": "2863c028"
      },
      "outputs": [],
      "source": [
        "\n",
        "#revenue this week and last\n",
        "\n",
        "#revenue this week and last last year\n",
        "\n",
        "#products this week and last\n",
        "\n",
        "#products this week and last last year\n"
      ]
    },
    {
      "cell_type": "code",
      "execution_count": null,
      "id": "850b362d",
      "metadata": {
        "id": "850b362d"
      },
      "outputs": [],
      "source": [
        "#create aggregate dataframe\n"
      ]
    },
    {
      "cell_type": "code",
      "execution_count": null,
      "id": "cf3a9e3a",
      "metadata": {
        "id": "cf3a9e3a"
      },
      "outputs": [],
      "source": [
        "###Create our Report\n",
        "\n",
        "\n",
        "\n",
        "\n"
      ]
    },
    {
      "cell_type": "markdown",
      "id": "a2bf3b3e",
      "metadata": {
        "id": "a2bf3b3e"
      },
      "source": [
        "## What percentage of our sales target have we reached (QTD, and EoQ)?\n"
      ]
    },
    {
      "cell_type": "code",
      "execution_count": null,
      "id": "121a1bbc",
      "metadata": {
        "id": "121a1bbc"
      },
      "outputs": [],
      "source": [
        "#calculate revenue this quarter, and target this quarter\n",
        "\n",
        "\n",
        "\n",
        "\n",
        "\n",
        "#target is revenue from last year's quarter with 10% growth\n"
      ]
    },
    {
      "cell_type": "code",
      "execution_count": null,
      "id": "5ca55f38",
      "metadata": {
        "id": "5ca55f38"
      },
      "outputs": [],
      "source": [
        "#calculate qtd target\n",
        "\n"
      ]
    },
    {
      "cell_type": "markdown",
      "id": "cddfbb38",
      "metadata": {
        "id": "cddfbb38"
      },
      "source": [
        "## What are our average ratings for the week?\n"
      ]
    },
    {
      "cell_type": "code",
      "execution_count": null,
      "id": "e0de5e71",
      "metadata": {
        "id": "e0de5e71"
      },
      "outputs": [],
      "source": []
    },
    {
      "cell_type": "code",
      "execution_count": null,
      "id": "65675ff7",
      "metadata": {
        "id": "65675ff7"
      },
      "outputs": [],
      "source": []
    },
    {
      "cell_type": "markdown",
      "id": "6f960022",
      "metadata": {
        "id": "6f960022"
      },
      "source": [
        "## What was the average time it took for an order to be fullfilled and delivered?"
      ]
    },
    {
      "cell_type": "code",
      "execution_count": null,
      "id": "f980763a",
      "metadata": {
        "id": "f980763a"
      },
      "outputs": [],
      "source": []
    },
    {
      "cell_type": "code",
      "execution_count": null,
      "id": "a5c8f459",
      "metadata": {
        "id": "a5c8f459"
      },
      "outputs": [],
      "source": []
    },
    {
      "cell_type": "code",
      "execution_count": null,
      "id": "e45cc296",
      "metadata": {
        "id": "e45cc296"
      },
      "outputs": [],
      "source": []
    },
    {
      "cell_type": "markdown",
      "id": "06d295d8",
      "metadata": {
        "id": "06d295d8"
      },
      "source": [
        "## Putting together baseline report"
      ]
    },
    {
      "cell_type": "code",
      "execution_count": null,
      "id": "99bf0249",
      "metadata": {
        "id": "99bf0249"
      },
      "outputs": [],
      "source": []
    },
    {
      "cell_type": "markdown",
      "id": "7bf79422",
      "metadata": {
        "id": "7bf79422"
      },
      "source": [
        "With our baseline report taken care of by simply running this notebook, we could deep dive to further understand why these trends are occuring."
      ]
    },
    {
      "cell_type": "code",
      "execution_count": null,
      "id": "eaedee21",
      "metadata": {
        "id": "eaedee21"
      },
      "outputs": [],
      "source": []
    },
    {
      "cell_type": "code",
      "execution_count": null,
      "id": "a3b34f68",
      "metadata": {
        "id": "a3b34f68"
      },
      "outputs": [],
      "source": []
    }
  ],
  "metadata": {
    "kernelspec": {
      "display_name": "Python 3 (ipykernel)",
      "language": "python",
      "name": "python3"
    },
    "language_info": {
      "codemirror_mode": {
        "name": "ipython",
        "version": 3
      },
      "file_extension": ".py",
      "mimetype": "text/x-python",
      "name": "python",
      "nbconvert_exporter": "python",
      "pygments_lexer": "ipython3",
      "version": "3.9.12"
    },
    "colab": {
      "provenance": [],
      "include_colab_link": true
    }
  },
  "nbformat": 4,
  "nbformat_minor": 5
}